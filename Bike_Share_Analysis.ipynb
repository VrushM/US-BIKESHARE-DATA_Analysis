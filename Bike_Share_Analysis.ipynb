{
 "cells": [
  {
   "cell_type": "markdown",
   "metadata": {},
   "source": [
    "# 2016 US Bike Share Activity Snapshot\n",
    "\n",
    "## Table of Contents\n",
    "- [Introduction](#intro)\n",
    "- [Posing Questions](#pose_questions)\n",
    "- [Data Collection and Wrangling](#wrangling)\n",
    "  - [Condensing the Trip Data](#condensing)\n",
    "- [Exploratory Data Analysis](#eda)\n",
    "  - [Statistics](#statistics)\n",
    "  - [Visualizations](#visualizations)\n",
    "- [Performing Your Own Analysis](#eda_continued)\n",
    "- [Conclusions](#conclusions)\n",
    "\n",
    "<a id='intro'></a>\n",
    "## Introduction\n",
    "\n",
    "> **Tip**: Quoted sections like this will provide helpful instructions on how to navigate and use a Jupyter notebook.\n",
    "\n",
    "Over the past decade, bicycle-sharing systems have been growing in number and popularity in cities across the world. Bicycle-sharing systems allow users to rent bicycles for short trips, typically 30 minutes or less. Thanks to the rise in information technologies, it is easy for a user of the system to access a dock within the system to unlock or return bicycles. These technologies also provide a wealth of data that can be used to explore how these bike-sharing systems are used.\n",
    "\n",
    "In this project, you will perform an exploratory analysis on data provided by [Motivate](https://www.motivateco.com/), a bike-share system provider for many major cities in the United States. You will compare the system usage between three large cities: New York City, Chicago, and Washington, DC. You will also see if there are any differences within each system for those users that are registered, regular users and those users that are short-term, casual users."
   ]
  },
  {
   "cell_type": "markdown",
   "metadata": {},
   "source": [
    "<a id='pose_questions'></a>\n",
    "## Posing Questions\n",
    "\n",
    "Before looking at the bike sharing data, you should start by asking questions you might want to understand about the bike share data. Consider, for example, if you were working for Motivate. What kinds of information would you want to know about in order to make smarter business decisions? If you were a user of the bike-share service, what factors might influence how you would want to use the service?\n",
    "\n",
    "**Question 1**: Write at least two questions related to bike sharing that you think could be answered by data.\n",
    "\n",
    "**Answer**: \n",
    "1. What percentage of total population is using the bike share system? \n",
    "2. Which station is most popular in the city. \n",
    "3. What is the minimum and maximum distance people travel using bike? \n",
    "4. What is the annual income of the Motivate? \n",
    "5. How many mens use bike share system? \n",
    "6. how many women use bike share system? \n",
    "> **Tip**: If you double click on this cell, you will see the text change so that all of the formatting is removed. This allows you to edit this block of text. This block of text is written using [Markdown](http://daringfireball.net/projects/markdown/syntax), which is a way to format text using headers, links, italics, and many other options using a plain-text syntax. You will also use Markdown later in the Nanodegree program. Use **Shift** + **Enter** or **Shift** + **Return** to run the cell and show its rendered form."
   ]
  },
  {
   "cell_type": "markdown",
   "metadata": {},
   "source": [
    "<a id='wrangling'></a>\n",
    "## Data Collection and Wrangling\n",
    "\n",
    "Now it's time to collect and explore our data. In this project, we will focus on the record of individual trips taken in 2016 from our selected cities: New York City, Chicago, and Washington, DC. Each of these cities has a page where we can freely download the trip data.:\n",
    "\n",
    "- New York City (Citi Bike): [Link](https://www.citibikenyc.com/system-data)\n",
    "- Chicago (Divvy): [Link](https://www.divvybikes.com/system-data)\n",
    "- Washington, DC (Capital Bikeshare): [Link](https://www.capitalbikeshare.com/system-data)\n",
    "\n",
    "If you visit these pages, you will notice that each city has a different way of delivering its data. Chicago updates with new data twice a year, Washington DC is quarterly, and New York City is monthly. **However, you do not need to download the data yourself.** The data has already been collected for you in the `/data/` folder of the project files. While the original data for 2016 is spread among multiple files for each city, the files in the `/data/` folder collect all of the trip data for the year into one file per city. Some data wrangling of inconsistencies in timestamp format within each city has already been performed for you. In addition, a random 2% sample of the original data is taken to make the exploration more manageable. \n",
    "\n",
    "**Question 2**: However, there is still a lot of data for us to investigate, so it's a good idea to start off by looking at one entry from each of the cities we're going to analyze. Run the first code cell below to load some packages and functions that you'll be using in your analysis. Then, complete the second code cell to print out the first trip recorded from each of the cities (the second line of each data file).\n",
    "\n",
    "> **Tip**: You can run a code cell like you formatted Markdown cells above by clicking on the cell and using the keyboard shortcut **Shift** + **Enter** or **Shift** + **Return**. Alternatively, a code cell can be executed using the **Play** button in the toolbar after selecting it. While the cell is running, you will see an asterisk in the message to the left of the cell, i.e. `In [*]:`. The asterisk will change into a number to show that execution has completed, e.g. `In [1]`. If there is output, it will show up as `Out [1]:`, with an appropriate number to match the \"In\" number."
   ]
  },
  {
   "cell_type": "code",
   "execution_count": 2,
   "metadata": {
    "collapsed": true
   },
   "outputs": [],
   "source": [
    "## import all necessary packages and functions.\n",
    "import csv # read and write csv files\n",
    "from datetime import datetime # operations to parse dates\n",
    "import numpy as np  # used in section 5\n",
    "from pprint import pprint # use to print data structures like dictionaries in\n",
    "                          # a nicer way than the base print function."
   ]
  },
  {
   "cell_type": "code",
   "execution_count": 3,
   "metadata": {},
   "outputs": [
    {
     "name": "stdout",
     "output_type": "stream",
     "text": [
      "\n",
      "City: NYC\n",
      "OrderedDict([('tripduration', '839'),\n",
      "             ('starttime', '1/1/2016 00:09:55'),\n",
      "             ('stoptime', '1/1/2016 00:23:54'),\n",
      "             ('start station id', '532'),\n",
      "             ('start station name', 'S 5 Pl & S 4 St'),\n",
      "             ('start station latitude', '40.710451'),\n",
      "             ('start station longitude', '-73.960876'),\n",
      "             ('end station id', '401'),\n",
      "             ('end station name', 'Allen St & Rivington St'),\n",
      "             ('end station latitude', '40.72019576'),\n",
      "             ('end station longitude', '-73.98997825'),\n",
      "             ('bikeid', '17109'),\n",
      "             ('usertype', 'Customer'),\n",
      "             ('birth year', ''),\n",
      "             ('gender', '0')])\n",
      "\n",
      "City: Chicago\n",
      "OrderedDict([('trip_id', '9080545'),\n",
      "             ('starttime', '3/31/2016 23:30'),\n",
      "             ('stoptime', '3/31/2016 23:46'),\n",
      "             ('bikeid', '2295'),\n",
      "             ('tripduration', '926'),\n",
      "             ('from_station_id', '156'),\n",
      "             ('from_station_name', 'Clark St & Wellington Ave'),\n",
      "             ('to_station_id', '166'),\n",
      "             ('to_station_name', 'Ashland Ave & Wrightwood Ave'),\n",
      "             ('usertype', 'Subscriber'),\n",
      "             ('gender', 'Male'),\n",
      "             ('birthyear', '1990')])\n",
      "\n",
      "City: Washington\n",
      "OrderedDict([('Duration (ms)', '427387'),\n",
      "             ('Start date', '3/31/2016 22:57'),\n",
      "             ('End date', '3/31/2016 23:04'),\n",
      "             ('Start station number', '31602'),\n",
      "             ('Start station', 'Park Rd & Holmead Pl NW'),\n",
      "             ('End station number', '31207'),\n",
      "             ('End station', 'Georgia Ave and Fairmont St NW'),\n",
      "             ('Bike number', 'W20842'),\n",
      "             ('Member Type', 'Registered')])\n"
     ]
    }
   ],
   "source": [
    "def print_first_point(filename): #returns first and second row containing coumn names and values respectively\n",
    "    \"\"\"\n",
    "    This function prints and returns the first data point (second row) from\n",
    "    a csv file that includes a header row.\n",
    "    \"\"\"\n",
    "    # print city name for reference\n",
    "    city = filename.split('-')[0].split('/')[-1]\n",
    "    print('\\nCity: {}'.format(city))\n",
    "    \n",
    "    with open(filename, 'r') as f_in: # opens a file\n",
    "        trip_reader = csv.DictReader(f_in)\n",
    "        first_trip = next(trip_reader)\n",
    "        pprint(first_trip)   \n",
    "    # return city name and first trip \n",
    "    return (city, first_trip)\n",
    "\n",
    "# list of files for each city\n",
    "data_files = ['./data/NYC-CitiBike-2016.csv',\n",
    "              './data/Chicago-Divvy-2016.csv',\n",
    "              './data/Washington-CapitalBikeshare-2016.csv',]\n",
    "\n",
    "# the first trip from each file, store in dictionary\n",
    "example_trips = {}\n",
    "for data_file in data_files:\n",
    "    city, first_trip = print_first_point(data_file)\n",
    "    example_trips[city] = first_trip"
   ]
  },
  {
   "cell_type": "markdown",
   "metadata": {},
   "source": [
    "If everything has been filled out correctly, you should see below the printout of each city name (which has been parsed from the data file name) that the first trip has been parsed in the form of a dictionary. When you set up a `DictReader` object, the first row of the data file is normally interpreted as column names. Every other row in the data file will use those column names as keys, as a dictionary is generated for each row.\n",
    "\n",
    "This will be useful since we can refer to quantities by an easily-understandable label instead of just a numeric index. For example, if we have a trip stored in the variable `row`, then we would rather get the trip duration from `row['duration']` instead of `row[0]`.\n",
    "\n",
    "<a id='condensing'></a>\n",
    "### Condensing the Trip Data\n",
    "\n",
    "It should also be observable from the above printout that each city provides different information. Even where the information is the same, the column names and formats are sometimes different. To make things as simple as possible when we get to the actual exploration, we should trim and clean the data. Cleaning the data makes sure that the data formats across the cities are consistent, while trimming focuses only on the parts of the data we are most interested in to make the exploration easier to work with.\n",
    "\n",
    "You will generate new data files with five values of interest for each trip: trip duration, starting month, starting hour, day of the week, and user type. Each of these may require additional wrangling depending on the city:\n",
    "\n",
    "- **Duration**: This has been given to us in seconds (New York, Chicago) or milliseconds (Washington). A more natural unit of analysis will be if all the trip durations are given in terms of minutes.\n",
    "- **Month**, **Hour**, **Day of Week**: Ridership volume is likely to change based on the season, time of day, and whether it is a weekday or weekend. Use the start time of the trip to obtain these values. The New York City data includes the seconds in their timestamps, while Washington and Chicago do not. The [`datetime`](https://docs.python.org/3/library/datetime.html) package will be very useful here to make the needed conversions.\n",
    "- **User Type**: It is possible that users who are subscribed to a bike-share system will have different patterns of use compared to users who only have temporary passes. Washington divides its users into two types: 'Registered' for users with annual, monthly, and other longer-term subscriptions, and 'Casual', for users with 24-hour, 3-day, and other short-term passes. The New York and Chicago data uses 'Subscriber' and 'Customer' for these groups, respectively. For consistency, you will convert the Washington labels to match the other two.\n",
    "\n",
    "\n",
    "**Question 3a**: Complete the helper functions in the code cells below to address each of the cleaning tasks described above."
   ]
  },
  {
   "cell_type": "code",
   "execution_count": 4,
   "metadata": {},
   "outputs": [
    {
     "name": "stdout",
     "output_type": "stream",
     "text": [
      "13.983333333333333\n",
      "15.433333333333334\n",
      "7.123116666666666\n"
     ]
    }
   ],
   "source": [
    "def duration_in_mins(datum, city):  #Converts all the trip duration from each city to minutes\n",
    "    if city == 'Chicago' or city == 'NYC':\n",
    "        minutes = float(datum['tripduration'])\n",
    "        duration = minutes/(60)\n",
    "    elif city == 'Washington':  \n",
    "        minutes = float(datum['Duration (ms)'])\n",
    "        duration = (minutes/(1000*60))\n",
    "    return duration\n",
    "# The `example_trips` dictionary is obtained from when we printed the first trip from each of the original data files.\n",
    "tests = {'NYC': 13.9833,\n",
    "         'Chicago': 15.4333,\n",
    "         'Washington': 7.1231}\n",
    "for city in tests:\n",
    "    print(duration_in_mins(example_trips[city], city))\n",
    "    assert abs(duration_in_mins(example_trips[city], city) - tests[city]) < .001"
   ]
  },
  {
   "cell_type": "code",
   "execution_count": 5,
   "metadata": {},
   "outputs": [
    {
     "name": "stdout",
     "output_type": "stream",
     "text": [
      "(1, 0, 'Friday')\n",
      "(3, 23, 'Thursday')\n",
      "(3, 22, 'Thursday')\n"
     ]
    }
   ],
   "source": [
    "def time_of_trip(datum, city): #Returns month, hour and day of week for a particular trip\n",
    "    \"\"\"datum == Takes as input a dictionary containing info about a single trip (datum) and\n",
    "    its origin city (city) and returns the month, hour, and day of the week in\n",
    "    which the trip was made.\"\"\"\n",
    "    \n",
    "    if city == 'NYC':\n",
    "        str_f = datetime.strptime(datum['starttime'], \"%m/%d/%Y %H:%M:%S\") #strptime() is used to convert the string values into appropriate data type\n",
    "        #print(str_f)\n",
    "        hour = str_f.hour #hour is obtained from given datetime format\n",
    "        day_of_week = datetime.strftime(str_f, \"%A\") #day in text format is obtained from given datetime format\n",
    "        month = str_f.month #month is obtained from given datetime format\n",
    "    elif city == 'Chicago' :\n",
    "        str_t = datetime.strptime(datum['starttime'], '%m/%d/%Y %H:%M')\n",
    "        #print(str_t)\n",
    "        hour = str_t.hour\n",
    "        day_of_week = datetime.strftime(str_t, \"%A\")\n",
    "        month = str_t.month\n",
    "    elif city == 'Washington' :\n",
    "        str_j = datetime.strptime(datum['Start date'], '%m/%d/%Y %H:%M')\n",
    "        #print(str_j)\n",
    "        hour = str_j.hour\n",
    "        day_of_week = datetime.strftime(str_j, \"%A\")\n",
    "        month = str_j.month\n",
    "\n",
    "    return (month, hour, day_of_week)\n",
    "\n",
    "\n",
    "# Some tests to check that your code works. There should be no output if all of\n",
    "# the assertions pass. The `example_trips` dictionary was obtained from when\n",
    "# you printed the first trip from each of the original data files.\n",
    "tests = {'NYC': (1, 0, 'Friday'),\n",
    "         'Chicago': (3, 23, 'Thursday'),\n",
    "         'Washington': (3, 22, 'Thursday')}\n",
    "for city in tests:\n",
    "    print(time_of_trip(example_trips[city], city))\n",
    "    assert time_of_trip(example_trips[city], city) == tests[city]"
   ]
  },
  {
   "cell_type": "code",
   "execution_count": 6,
   "metadata": {},
   "outputs": [
    {
     "name": "stdout",
     "output_type": "stream",
     "text": [
      "Customer\n",
      "Subscriber\n",
      "Subscriber\n"
     ]
    }
   ],
   "source": [
    "def type_of_user(datum, city): #Returns type of user\n",
    "    \"\"\"Takes as input a dictionary containing info about a single trip (datum) and\n",
    "    its origin city (city) and returns the type of system user that made the\n",
    "    trip. \"\"\"\n",
    "        \n",
    "    if city == 'NYC' or city == 'Chicago':  #Checks the user type for NYC and Chicago city\n",
    "        user_type = datum['usertype']\n",
    "    elif city == 'Washington':              #Checks the user type for Washington and replaced their type as Subscriber and Customer\n",
    "        if datum['Member Type'] == 'Registered':\n",
    "            user_type = 'Subscriber'\n",
    "        elif datum['Member Type'] == 'Casual':\n",
    "            user_type = 'Customer'\n",
    "    return user_type\n",
    "\n",
    "tests = {'NYC': 'Customer',\n",
    "         'Chicago': 'Subscriber',\n",
    "         'Washington': 'Subscriber'}\n",
    "\n",
    "for city in tests:\n",
    "    print(type_of_user(example_trips[city], city))\n",
    "    assert type_of_user(example_trips[city], city) == tests[city]"
   ]
  },
  {
   "cell_type": "markdown",
   "metadata": {},
   "source": [
    "**Question 3b**: Now, use the helper functions you wrote above to create a condensed data file for each city consisting only of the data fields indicated above. In the `/examples/` folder, you will see an example datafile from the [Bay Area Bike Share](http://www.bayareabikeshare.com/open-data) before and after conversion. Make sure that your output is formatted to be consistent with the example file."
   ]
  },
  {
   "cell_type": "code",
   "execution_count": 7,
   "metadata": {
    "collapsed": true
   },
   "outputs": [],
   "source": [
    "def condense_data(in_file, out_file, city):\n",
    "    \"\"\"This function takes full data from the specified input file\n",
    "    and writes the condensed data to a specified output file. The city\n",
    "    argument determines how the input file will be parsed.\"\"\"\n",
    "    \n",
    "    with open(out_file, 'w') as f_out, open(in_file, 'r') as f_in:\n",
    "        # A csv DictWriter object set which requires column names for the first row as the \"fieldnames\" argument\n",
    "        out_colnames = ['duration', 'month', 'hour', 'day_of_week', 'user_type']        \n",
    "        trip_writer = csv.DictWriter(f_out, fieldnames = out_colnames)\n",
    "        trip_writer.writeheader()\n",
    "        trip_reader = csv.DictReader(f_in) # csv DictReader object is set\n",
    "        # collect data from  each function and processed each row\n",
    "        for row in trip_reader:\n",
    "            new_point = {} \n",
    "            new_point['duration'] = duration_in_mins(row, city)\n",
    "            new_point['month'] = time_of_trip(row,city)[0]\n",
    "            new_point['hour'] = time_of_trip(row,city)[1]\n",
    "            new_point['day_of_week'] = time_of_trip(row,city)[2]\n",
    "            new_point['user_type'] = type_of_user(row, city)\n",
    "            ## the processed information is written to the output file.\n",
    "            trip_writer.writerow(new_point)            "
   ]
  },
  {
   "cell_type": "code",
   "execution_count": 8,
   "metadata": {
    "scrolled": true
   },
   "outputs": [
    {
     "name": "stdout",
     "output_type": "stream",
     "text": [
      "\n",
      "City: Washington\n",
      "OrderedDict([('duration', '7.123116666666666'),\n",
      "             ('month', '3'),\n",
      "             ('hour', '22'),\n",
      "             ('day_of_week', 'Thursday'),\n",
      "             ('user_type', 'Subscriber')])\n",
      "\n",
      "City: Chicago\n",
      "OrderedDict([('duration', '15.433333333333334'),\n",
      "             ('month', '3'),\n",
      "             ('hour', '23'),\n",
      "             ('day_of_week', 'Thursday'),\n",
      "             ('user_type', 'Subscriber')])\n",
      "\n",
      "City: NYC\n",
      "OrderedDict([('duration', '13.983333333333333'),\n",
      "             ('month', '1'),\n",
      "             ('hour', '0'),\n",
      "             ('day_of_week', 'Friday'),\n",
      "             ('user_type', 'Customer')])\n"
     ]
    }
   ],
   "source": [
    "city_info = {'Washington': {'in_file': './data/Washington-CapitalBikeshare-2016.csv',\n",
    "                            'out_file': './data/Washington-2016-Summary.csv'},\n",
    "             'Chicago': {'in_file': './data/Chicago-Divvy-2016.csv',\n",
    "                         'out_file': './data/Chicago-2016-Summary.csv'},\n",
    "             'NYC': {'in_file': './data/NYC-CitiBike-2016.csv',\n",
    "                     'out_file': './data/NYC-2016-Summary.csv'}}\n",
    "\n",
    "for city, filenames in city_info.items():\n",
    "    condense_data(filenames['in_file'], filenames['out_file'], city)\n",
    "    print_first_point(filenames['out_file'])"
   ]
  },
  {
   "cell_type": "markdown",
   "metadata": {},
   "source": [
    "> **Tip**: If you save a jupyter Notebook, the output from running code blocks will also be saved. However, the state of your workspace will be reset once a new session is started. Make sure that you run all of the necessary code blocks from your previous session to reestablish variables and functions before picking up where you last left off.\n",
    "\n",
    "<a id='eda'></a>\n",
    "## Exploratory Data Analysis\n",
    "\n",
    "Now that you have the data collected and wrangled, you're ready to start exploring the data. In this section you will write some code to compute descriptive statistics from the data. You will also be introduced to the `matplotlib` library to create some basic histograms of the data.\n",
    "\n",
    "<a id='statistics'></a>\n",
    "### Statistics\n",
    "\n",
    "First, let's compute some basic counts. The first cell below contains a function that uses the csv module to iterate through a provided data file, returning the number of trips made by subscribers and customers. The second cell runs this function on the example Bay Area data in the `/examples/` folder. Modify the cells to answer the question below.\n",
    "\n",
    "**Question 4a**: Which city has the highest number of trips? Which city has the highest proportion of trips made by subscribers? Which city has the highest proportion of trips made by short-term customers?\n",
    "\n",
    "**Answer**: From the table below we can conclude that, **'NYC'** city has the highest number of trips that is **276798**, Also **'NYC'** city has the highest proportion of trips made by subscribers which is *89%* and **'Chicago'** city has the highest proportion of trips made by short-term customers which is **24%**.\n"
   ]
  },
  {
   "cell_type": "markdown",
   "metadata": {},
   "source": [
    " |   City     | Subscriber’s Trips | Customer's Trips|Total Trips      |\n",
    " |:-----------|:------------------:|:---------------:|:---------------:|\n",
    " | NYC        |     245896 (89%)        |    30902 (11%)       |  276798         |\n",
    " |Washington  |     51753 (78%)         |    14573 (22%)       |  66326          |\n",
    " | Chicago    |     54982 (76%)         |    17149  (24%)      |  72131          |"
   ]
  },
  {
   "cell_type": "code",
   "execution_count": 9,
   "metadata": {
    "collapsed": true
   },
   "outputs": [],
   "source": [
    "def number_of_trips(filename, city):\n",
    "    \"\"\"\n",
    "    This function reads in a file with trip data and reports the number of\n",
    "    trips made by subscribers, customers, and total overall.\n",
    "    \"\"\"\n",
    "    with open(filename, 'r') as f_in:\n",
    "        # set up csv reader object\n",
    "        reader = csv.DictReader(f_in)\n",
    "\n",
    "        # initialize count variables\n",
    "        n_subscribers = 0\n",
    "        n_customers = 0\n",
    "        n_trip = 0\n",
    "        # tally up ride types\n",
    "        for row in reader:\n",
    "            n_trip += 1\n",
    "            user = type_of_user(row, city)\n",
    "            if user == 'Subscriber':\n",
    "                n_subscribers += 1\n",
    "            else:\n",
    "                n_customers += 1\n",
    "\n",
    "        # compute total number of rides\n",
    "        n_total = n_subscribers + n_customers\n",
    "\n",
    "        # return tallies as a tuple\n",
    "        return(n_subscribers, n_customers, n_total)\n",
    "\n",
    "## Modify this and the previous cell to answer Question 4a. Remember to run ##\n",
    "## the function on the cleaned data files you created from Question 3.      ##\n"
   ]
  },
  {
   "cell_type": "code",
   "execution_count": 10,
   "metadata": {
    "scrolled": true
   },
   "outputs": [
    {
     "name": "stdout",
     "output_type": "stream",
     "text": [
      "(51753, 14573, 66326)\n",
      "(54982, 17149, 72131)\n",
      "(245896, 30902, 276798)\n"
     ]
    }
   ],
   "source": [
    "city_raw = {'Washington': './data/Washington-CapitalBikeshare-2016.csv',\n",
    "             'Chicago': './data/Chicago-Divvy-2016.csv',\n",
    "             'NYC': './data/NYC-CitiBike-2016.csv'}\n",
    "\n",
    "for city, data_file in city_raw.items():\n",
    "    n_subscribers, n_customers, n_total = number_of_trips(data_file, city)\n",
    "    print(number_of_trips(data_file, city))"
   ]
  },
  {
   "cell_type": "markdown",
   "metadata": {},
   "source": [
    "> **Tip**: In order to add additional cells to a notebook, you can use the \"Insert Cell Above\" and \"Insert Cell Below\" options from the menu bar above. There is also an icon in the toolbar for adding new cells, with additional icons for moving the cells up and down the document. By default, new cells are of the code type; you can also specify the cell type (e.g. Code or Markdown) of selected cells from the Cell menu or the dropdown in the toolbar.\n",
    "\n",
    "Now, you will write your own code to continue investigating properties of the data.\n",
    "\n",
    "**Question 4b**: Bike-share systems are designed for riders to take short trips. Most of the time, users are allowed to take trips of 30 minutes or less with no additional charges, with overage charges made for trips of longer than that duration. What is the average trip length for each city? What proportion of rides made in each city are longer than 30 minutes?\n",
    "\n",
    "**Answer**: So from the output of the below written code we can conclude that In __'NYC' city__ , the average trip length is approximately __15 minutes__, and __7.32 %__ of trips are more than 30 minutes and for __'Chicago' city__ the average trip length is approximately __16 minutes__, and __8.35 %__ of trips are more than 30 minutes and for __'Washington' city__ the average trip length is approximately __18 minutes__, and __10.84 %__ of trips are more than 30 minutes."
   ]
  },
  {
   "cell_type": "code",
   "execution_count": 11,
   "metadata": {
    "scrolled": true
   },
   "outputs": [
    {
     "name": "stdout",
     "output_type": "stream",
     "text": [
      "('NYC', 276798, 7.32, 15.81)\n",
      "('Chicago', 72131, 8.35, 16.56)\n",
      "('Washington', 66326, 10.84, 18.93)\n"
     ]
    }
   ],
   "source": [
    "import csv\n",
    "def trp_duration(filename):\n",
    "\n",
    "    total_of_duration = 0 #Stores total trip duration for the particular city\n",
    "    above_30 = 0  #Count of trips having trip durations more than 30 minutes\n",
    "    below_30 = 0  ##Count of trips having trip durations less than 30 minutes\n",
    "    total = 0  #tota\n",
    "    \n",
    "    city = filename.split('-')[0].split('/')[-1]\n",
    "    with open(filename, 'r') as f_in:\n",
    "        trip_reader = csv.DictReader(f_in)\n",
    "        for row in trip_reader:\n",
    "            total += 1\n",
    "            if city == 'NYC' or city == 'Chicago':\n",
    "                total_of_duration += int(row['tripduration'])\n",
    "                if int(row['tripduration'])>=1800:\n",
    "                    above_30 +=1\n",
    "                else:\n",
    "                    below_30 +=1\n",
    "                avg_above_30 = round((above_30/total)*100, 2)\n",
    "                avg_duration = round((total_of_duration/total)/60, 2)   \n",
    "            elif city == 'Washington':\n",
    "                total_of_duration += int(row['Duration (ms)'])\n",
    "                if int(row['Duration (ms)']) >=1800000:\n",
    "                    above_30 +=1\n",
    "                else:\n",
    "                    below_30 +=1\n",
    "                avg_above_30 = round((above_30/total)*100,2)\n",
    "                avg_duration =  round((total_of_duration/total)/(1000*60), 2)    \n",
    "            \n",
    "    return (city, total, avg_above_30, avg_duration)\n",
    "        \n",
    "\n",
    "data_files = ['./data/NYC-CitiBike-2016.csv',\n",
    "              './data/Chicago-Divvy-2016.csv',\n",
    "              './data/Washington-CapitalBikeshare-2016.csv']\n",
    "for data_file in data_files:\n",
    "    city, total, over_30, avg_duration  = trp_duration(data_file)\n",
    "    print(trp_duration(data_file))"
   ]
  },
  {
   "cell_type": "markdown",
   "metadata": {},
   "source": [
    "**Question 4c**: Dig deeper into the question of trip duration based on ridership. Choose one city. Within that city, which type of user takes longer rides on average: Subscribers or Customers?\n",
    "\n",
    "**Answer**: So from the output of the below written code we can conclude that In __NYC city__ , __Customers__ takes longer rides as compared with the Subscribers. (Also If checked with other cities its kind of same condition.)"
   ]
  },
  {
   "cell_type": "code",
   "execution_count": 22,
   "metadata": {},
   "outputs": [
    {
     "name": "stdout",
     "output_type": "stream",
     "text": [
      "('NYC', 245896, 30185, 262613647, 13.68, 32.98)\n"
     ]
    }
   ],
   "source": [
    "def user_ride_duration(filename, city): #Calculates average trip duration for both subscriber and customers\n",
    "    \n",
    "    total_of_duration = 0  #Stores total duration of trip for both subscribers and customers\n",
    "    Sub_duration = 0  #Stores trip duration for subscribers\n",
    "    Cus_duration = 0  #Stores trip duration for Customers\n",
    "    num_sub = 0  #Number of Subscribers\n",
    "    num_cust = 0 #Number of Customers\n",
    "    total = 0  #Total subscribers and customers\n",
    "    \n",
    "    city = filename.split('-')[0].split('/')[-1]\n",
    "    with open(filename, 'r') as f_in:\n",
    "        \n",
    "        trip_reader = csv.DictReader(f_in)\n",
    "        for row in trip_reader:\n",
    "            user = type_of_user(row, city)\n",
    "            total_of_duration += int(row['tripduration'])\n",
    "            if user == 'Subscriber':\n",
    "                num_sub += 1\n",
    "                Sub_duration += int(row['tripduration']) \n",
    "            elif user == 'Customer':\n",
    "                num_cust += 1\n",
    "                Cus_duration += int(row['tripduration'])   \n",
    "        Sub_duration = Sub_duration/60\n",
    "        Cus_duration = Cus_duration/60\n",
    "        avg_Subs = round((Sub_duration/num_sub), 2) #Average Trip duration for Subscribers\n",
    "        avg_Cust = round((Cus_duration/num_cust), 2) #Average Trip duration for Customers\n",
    "\n",
    "    return (city,num_sub,num_cust, total_of_duration, avg_Subs, avg_Cust)\n",
    "        \n",
    "\n",
    "data_files = ['./data/NYC-CitiBike-2016.csv',]\n",
    "city = 'NYC'\n",
    "for data_file in data_files:\n",
    "    city,num_sub,num_cust,total_of_duration,avg_Subs, avg_Cust = user_ride_duration(data_file, city)\n",
    "    print(user_ride_duration(data_file, city))"
   ]
  },
  {
   "cell_type": "markdown",
   "metadata": {},
   "source": [
    "<a id='visualizations'></a>\n",
    "### Visualizations\n",
    "\n",
    "The last set of values that you computed should have pulled up an interesting result. While the mean trip time for Subscribers is well under 30 minutes, the mean trip time for Customers is actually _above_ 30 minutes! It will be interesting for us to look at how the trip times are distributed. In order to do this, a new library will be introduced here, `matplotlib`. Run the cell below to load the library and to generate an example plot."
   ]
  },
  {
   "cell_type": "code",
   "execution_count": 13,
   "metadata": {},
   "outputs": [
    {
     "data": {
      "image/png": "[encoded data removed]",
      "text/plain": [
       "<matplotlib.figure.Figure at 0x7f59302ea0b8>"
      ]
     },
     "metadata": {},
     "output_type": "display_data"
    }
   ],
   "source": [
    "import matplotlib.pyplot as plt\n",
    "%matplotlib inline \n",
    "# example histogram, data taken from bay area sample\n",
    "data = [ 7.65,  8.92,  7.42,  5.50, 16.17,  4.20,  8.98,  9.62, 11.48, 14.33,\n",
    "        19.02, 21.53,  3.90,  7.97,  2.62,  2.67,  3.08, 14.40, 12.90,  7.83,\n",
    "        25.12,  8.30,  4.93, 12.43, 10.60,  6.17, 10.88,  4.78, 15.15,  3.53,\n",
    "         9.43, 13.32, 11.72,  9.85,  5.22, 15.10,  3.95,  3.17,  8.78,  1.88,\n",
    "         4.55, 12.68, 12.38,  9.78,  7.63,  6.45, 17.38, 11.90, 11.52,  8.63,]\n",
    "plt.hist(data, bins = 5)\n",
    "plt.title('Distribution of Trip Durations')\n",
    "plt.xlabel('Duration (m)')\n",
    "plt.show()"
   ]
  },
  {
   "cell_type": "markdown",
   "metadata": {},
   "source": [
    "In the above cell, we collected fifty trip times in a list, and passed this list as the first argument to the `.hist()` function. This function performs the computations and creates plotting objects for generating a histogram, but the plot is actually not rendered until the `.show()` function is executed. The `.title()` and `.xlabel()` functions provide some labeling for plot context.\n",
    "\n",
    "You will now use these functions to create a histogram of the trip times for the city you selected in question 4c. Don't separate the Subscribers and Customers for now: just collect all of the trip times and plot them."
   ]
  },
  {
   "cell_type": "code",
   "execution_count": 14,
   "metadata": {},
   "outputs": [
    {
     "data": {
      "image/png": "[encoded data removed]",
      "text/plain": [
       "<matplotlib.figure.Figure at 0x7f59302c60f0>"
      ]
     },
     "metadata": {},
     "output_type": "display_data"
    }
   ],
   "source": [
    "def histog(file):\n",
    "    data = [] #Empty list to store trip duation \n",
    "    with open(file, 'r') as f_in:\n",
    "        trip_reader = csv.DictReader(f_in)\n",
    "        for row in trip_reader :\n",
    "            value = float(row['tripduration']) #Stores the trip duration for that particular row in the value\n",
    "            data.append (value) #Output of value is appended to the data list\n",
    "    return data \n",
    "file = './data/NYC-CitiBike-2016.csv'\n",
    "plt.hist(histog(file))\n",
    "plt.title('Distribution of Trip Durations')\n",
    "plt.xlabel('Duration')\n",
    "plt.show()\n"
   ]
  },
  {
   "cell_type": "markdown",
   "metadata": {},
   "source": [
    "If you followed the use of the `.hist()` and `.show()` functions exactly like in the example, you're probably looking at a plot that's completely unexpected. The plot consists of one extremely tall bar on the left, maybe a very short second bar, and a whole lot of empty space in the center and right. Take a look at the duration values on the x-axis. This suggests that there are some highly infrequent outliers in the data. Instead of reprocessing the data, you will use additional parameters with the `.hist()` function to limit the range of data that is plotted. Documentation for the function can be found [[here]](https://matplotlib.org/devdocs/api/_as_gen/matplotlib.pyplot.hist.html#matplotlib.pyplot.hist).\n",
    "\n",
    "**Question 5**: Use the parameters of the `.hist()` function to plot the distribution of trip times for the Subscribers in your selected city. Do the same thing for only the Customers. Add limits to the plots so that only trips of duration less than 75 minutes are plotted. As a bonus, set the plots up so that bars are in five-minute wide intervals. For each group, where is the peak of each distribution? How would you describe the shape of each distribution?\n",
    "\n",
    "**Answer**: Below printed Histogram shows the distribution of trip times for 'Subscribers' and 'Customers' in the __'NYC' city__. From the below printed Histograms we can conclude that, Both the histograms are __Right Skewed__ and The __peak for 'Subscriers' trip duration is between 0 to 15 mins__ and For __'Customers' it is between 15 to 30 mins__. From this we can say that, average trip duration for 'Customers' is higher than the 'Subscribers'. Also we can analyze it from the difference between Mean, Median,  First_Quartile, Third_Quartile values from the table below :"
   ]
  },
  {
   "cell_type": "markdown",
   "metadata": {},
   "source": [
    " |User_type  | Mean | Median | First_Quartile | Third_Quartile |\n",
    " |:----------|:----:|:------:|:--------------:|:--------------:|\n",
    " | Subscriber| 12.22|   9.7  |    6.03        |    15.81       |\n",
    " | Customer  | 22.20|  20.63 |    13.56       |    27.83       |   "
   ]
  },
  {
   "cell_type": "code",
   "execution_count": 15,
   "metadata": {},
   "outputs": [
    {
     "name": "stdout",
     "output_type": "stream",
     "text": [
      "mean value for Subscriber : 12.225057084142023\n",
      "1st quartile for Subscriber : 6.033333333333333\n",
      "median value for Subscriber : 9.7\n",
      "3rd quartile for Subscriber : 15.816666666666666\n"
     ]
    },
    {
     "data": {
      "image/png": "[encoded data removed]",
      "text/plain": [
       "<matplotlib.figure.Figure at 0x7f59100ce438>"
      ]
     },
     "metadata": {},
     "output_type": "display_data"
    }
   ],
   "source": [
    "def NYC_sub(filename, city):\n",
    "    value = []  #Empty list to store trip duration greater than 75 min for subscribers\n",
    "    with open(filename,'r') as f_in:\n",
    "        trip_reader = csv.DictReader(f_in)\n",
    "        for row in trip_reader:\n",
    "            user = type_of_user(row, city)\n",
    "            if user == 'Subscriber' and float(row['tripduration'])/60 < 75 : \n",
    "                data = float(row['tripduration'])/60   #Value of tripduration that particular row is stored in data\n",
    "                value.append(data)   #Output of data is appended to the value list\n",
    "                \n",
    "    return value\n",
    "filename = './data/NYC-CitiBike-2016.csv'\n",
    "city = 'NYC'\n",
    "bins = [0,15,30,45,60,75]     \n",
    "plt.hist(NYC_sub(filename, city),bins, histtype='bar', color = 'crimson') #Plots histogram\n",
    "plt.title('Distribution of Trip Durations for Subscriber')\n",
    "plt.xlabel('Duration')\n",
    "plt.ylabel('Number of Trips')\n",
    "print('mean value for Subscriber : {}'.format( np.mean(NYC_sub(filename, city))))\n",
    "print('1st quartile for Subscriber : {}'.format(np.percentile(NYC_sub(filename, city), 25)))\n",
    "print('median value for Subscriber : {}'.format(np.median(NYC_sub(filename, city))))\n",
    "print('3rd quartile for Subscriber : {}'.format(np.percentile(NYC_sub(filename, city), 75)))\n",
    "plt.show()    \n"
   ]
  },
  {
   "cell_type": "code",
   "execution_count": 16,
   "metadata": {},
   "outputs": [
    {
     "name": "stdout",
     "output_type": "stream",
     "text": [
      "mean value for Customer : 22.20195623839349\n",
      "1st quartile for Customer : 13.566666666666666\n",
      "median value for Customer : 20.633333333333333\n",
      "3rd quartile for Customer : 27.833333333333332\n"
     ]
    },
    {
     "data": {
      "image/png": "[encoded data removed]",
      "text/plain": [
       "<matplotlib.figure.Figure at 0x7f59100ce550>"
      ]
     },
     "metadata": {},
     "output_type": "display_data"
    }
   ],
   "source": [
    "def NYC_sub(filename, city):\n",
    "    value = [] #Empty list to store trip duration greater than 75 min for customers\n",
    "    with open(filename, 'r') as f_in:\n",
    "        trip_reader = csv.DictReader(f_in)\n",
    "        for row in trip_reader:\n",
    "            user = type_of_user(row, city)\n",
    "            if user == 'Customer' and float(row['tripduration'])/60 < 75 :\n",
    "                data = float(row['tripduration'])/60  #Value of tripduration that particular row is stored in data\n",
    "                value.append(data)   #Output of data is appended to the value list\n",
    "    return value \n",
    "filename = './data/NYC-CitiBike-2016.csv'\n",
    "bins = [0,15,30,45,60,75]\n",
    "city = 'NYC'\n",
    "plt.hist(NYC_sub(filename, city), bins,  histtype='bar', color = 'g')\n",
    "print('mean value for Customer : {}'.format( np.mean(NYC_sub(filename, city))))\n",
    "print('1st quartile for Customer : {}'.format(np.percentile(NYC_sub(filename, city), 25)))\n",
    "print('median value for Customer : {}'.format(np.median(NYC_sub(filename, city))))\n",
    "print('3rd quartile for Customer : {}'.format(np.percentile(NYC_sub(filename, city), 75)))\n",
    "plt.title('Distribution of Trip Durations for Customer')\n",
    "plt.xlabel('Duration')\n",
    "plt.ylabel('Number of Trips')\n",
    "plt.show()    \n"
   ]
  },
  {
   "cell_type": "markdown",
   "metadata": {
    "collapsed": true
   },
   "source": [
    "<a id='eda_continued'></a>\n",
    "## Performing Your Own Analysis\n",
    "\n",
    "So far, you've performed an initial exploration into the data available. You have compared the relative volume of trips made between three U.S. cities and the ratio of trips made by Subscribers and Customers. For one of these cities, you have investigated differences between Subscribers and Customers in terms of how long a typical trip lasts. Now it is your turn to continue the exploration in a direction that you choose. Here are a few suggestions for questions to explore:\n",
    "\n",
    "- How does ridership differ by month or season? Which month / season has the highest ridership? Does the ratio of Subscriber trips to Customer trips change depending on the month or season?\n",
    "- Is the pattern of ridership different on the weekends versus weekdays? On what days are Subscribers most likely to use the system? What about Customers? Does the average duration of rides change depending on the day of the week?\n",
    "- During what time of day is the system used the most? Is there a difference in usage patterns for Subscribers and Customers?\n",
    "\n",
    "If any of the questions you posed in your answer to question 1 align with the bullet points above, this is a good opportunity to investigate one of them. As part of your investigation, you will need to create a visualization. If you want to create something other than a histogram, then you might want to consult the [Pyplot documentation](https://matplotlib.org/devdocs/api/pyplot_summary.html). In particular, if you are plotting values across a categorical variable (e.g. city, user type), a bar chart will be useful. The [documentation page for `.bar()`](https://matplotlib.org/devdocs/api/_as_gen/matplotlib.pyplot.bar.html#matplotlib.pyplot.bar) includes links at the bottom of the page with examples for you to build off of for your own use.\n",
    "\n",
    "**Question 6**: Continue the investigation by exploring another question that could be answered by the data available. Document the question you want to explore below. Your investigation should involve at least two variables and should compare at least two groups. You should also use at least one visualization as part of your explorations.\n",
    "\n",
    "**Answer**: __Is the pattern of ridership different on the weekends versus weekdays?___ \n",
    "   \n",
    "   From the output generated by the below written function we can conclude that the pattern of __ridership is different on week-ends and week-days for 'Subscribers'__ but it is __almost same for the 'Customers'__. \n",
    "    \n",
    "___On what days are Subscribers most likely to use the system? What about Customers?___ \n",
    "\n",
    "'Subscribers' most probably use the service on week-ends while 'Customers' use it as and when possible as there is very little difference in their average use in week-days and week-ends.\n",
    "\n",
    "__Does the average duration of rides change depending on the day of the week?__\n",
    "\n",
    "So the average duration of rides change depending on the day of the week for 'Subscriber', but not for the 'Customer'. We can analyze this from the histogram below."
   ]
  },
  {
   "cell_type": "code",
   "execution_count": 20,
   "metadata": {},
   "outputs": [
    {
     "name": "stdout",
     "output_type": "stream",
     "text": [
      "(14.854795373665482, 13.37676440571534, 32.894326843657645, 32.67628797361454)\n"
     ]
    },
    {
     "data": {
      "image/png": "[encoded data removed]",
      "text/plain": [
       "<matplotlib.figure.Figure at 0x7f59106cacc0>"
      ]
     },
     "metadata": {},
     "output_type": "display_data"
    }
   ],
   "source": [
    "def ridership_pattern(file, city):\n",
    "    weekends = ['Saturday', 'Sunday']\n",
    "    duration_weekends_s = 0  #total duration of subscribers on weekend\n",
    "    duration_weekends_c = 0  #total duration of Customers on weekend\n",
    "    duration_weekdays_s = 0  #total duration of Subscriber on weekday\n",
    "    duration_weekdays_c = 0  #total duration of Customers on weekday\n",
    "    count_weekends_s = 0     #total trip count of Subscribers on weekend\n",
    "    count_weekends_c = 0     #total trip count of Customers on weekend\n",
    "    count_weekdays_s = 0     #total trip count of Subscribers on weekday\n",
    "    count_weekdays_c = 0     #total trip count of Customers on weekday\n",
    "    with open(file, 'r') as f_in:\n",
    "        trip_reader = csv.DictReader(f_in)\n",
    "        for row in trip_reader :\n",
    "            day = time_of_trip(row,city)[2]\n",
    "            user = type_of_user(row,city)\n",
    "            duration = duration_in_mins(row, city)\n",
    "            if user == 'Subscriber':\n",
    "                if day in weekends:\n",
    "                    duration_weekends_s += duration\n",
    "                    count_weekends_s += 1\n",
    "                else:\n",
    "                    duration_weekdays_s += duration\n",
    "                    count_weekdays_s += 1\n",
    "            else:\n",
    "                if day in weekends:\n",
    "                    duration_weekends_c += duration\n",
    "                    count_weekends_c += 1\n",
    "                else:\n",
    "                    duration_weekdays_c += duration\n",
    "                    count_weekdays_c += 1\n",
    "        avg_weekends_s = duration_weekends_s/count_weekends_s  # Average tripduration of Subscribers on weekends\n",
    "        avg_weekdays_s = duration_weekdays_s/count_weekdays_s  # Average tripduration of Subscribers on weekdays\n",
    "        avg_weekends_c = duration_weekends_c/count_weekends_c  # Average tripduration of Customers on weekends\n",
    "        avg_weekdays_c = duration_weekdays_c/count_weekdays_c  # Average tripduration of Customers on weekdays\n",
    "        return avg_weekends_s, avg_weekdays_s, avg_weekends_c, avg_weekdays_c\n",
    "    \n",
    "file = './data/NYC-CitiBike-2016.csv'\n",
    "city = 'NYC'\n",
    "print(ridership_pattern(file, city))\n",
    "Subs_cus = [ridership_pattern(file, city)[0], ridership_pattern(file, city)[1],ridership_pattern(file, city)[2], ridership_pattern(file, city)[3]]\n",
    "Customers = [1,2,3,4]\n",
    "labels = ['Weekend_subs', 'Weekday_subs','Weekend_cust', 'Weekday_cust']\n",
    "bars = plt.bar(Customers,Subs_cus, tick_label = labels ) #plots hostograms for all the output variables\n",
    "bars[0].set_color('r')\n",
    "bars[2].set_color('r')\n",
    "\n",
    "plt.title('Distribution of Ridership Trip Durations on weekdays and weekends')\n",
    "plt.xlabel('Rider')\n",
    "plt.ylabel('Average trip duration')\n",
    "plt.show()  "
   ]
  },
  {
   "cell_type": "markdown",
   "metadata": {},
   "source": [
    "<a id='conclusions'></a>\n",
    "## Conclusions\n",
    "\n",
    "Congratulations on completing the project! This is only a sampling of the data analysis process: from generating questions, wrangling the data, and to exploring the data. Normally, at this point in the data analysis process, you might want to draw conclusions about the data by performing a statistical test or fitting the data to a model for making predictions. There are also a lot of potential analyses that could be performed on the data which are not possible with only the data provided. For example, detailed location data has not been investigated. Where are the most commonly used docks? What are the most common routes? As another example, weather has potential to have a large impact on daily ridership. How much is ridership impacted when there is rain or snow? Are subscribers or customers affected more by changes in weather?\n",
    "\n",
    "**Question 7**: Putting the bike share data aside, think of a topic or field of interest where you would like to be able to apply the techniques of data science. What would you like to be able to learn from your chosen subject?\n",
    "\n",
    "**Answer**: I would like to apply Data analysis techniques in __Women's Safety issues__, In which will extract the safer routes to travel by verifying the the crime history in that route and time of the day to travel safely that a particular area.\n",
    "\n",
    "> **Tip**: If we want to share the results of our analysis with others, we aren't limited to giving them a copy of the jupyter Notebook (.ipynb) file. We can also export the Notebook output in a form that can be opened even for those without Python installed. From the **File** menu in the upper left, go to the **Download as** submenu. You can then choose a different format that can be viewed more generally, such as HTML (.html) or\n",
    "PDF (.pdf). You may need additional packages or software to perform these exports."
   ]
  }
 ],
 "metadata": {
  "anaconda-cloud": {},
  "kernelspec": {
   "display_name": "Python 3",
   "language": "python",
   "name": "python3"
  },
  "language_info": {
   "codemirror_mode": {
    "name": "ipython",
    "version": 3
   },
   "file_extension": ".py",
   "mimetype": "text/x-python",
   "name": "python",
   "nbconvert_exporter": "python",
   "pygments_lexer": "ipython3",
   "version": "3.6.2"
  }
 },
 "nbformat": 4,
 "nbformat_minor": 1
}
